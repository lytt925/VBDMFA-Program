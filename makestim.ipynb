{
 "cells": [
  {
   "cell_type": "code",
   "execution_count": 1,
   "id": "c68e0100",
   "metadata": {},
   "outputs": [],
   "source": [
    "import pandas as pd\n",
    "import numpy as np\n",
    "from itertools import combinations, product, chain, repeat\n",
    "import copy"
   ]
  },
  {
   "cell_type": "code",
   "execution_count": 45,
   "id": "0965e81b",
   "metadata": {},
   "outputs": [],
   "source": [
    "def genCombinations(countList, chooseStim='345678', difficultyRange=4):\n",
    "    smallestStim = int(chooseStim[0])\n",
    "    temp = [] # 得到所有分數*數量的list\n",
    "    for i, count in enumerate(countList):\n",
    "        i = i + smallestStim\n",
    "        temp.append(np.repeat(i,count))\n",
    "        \n",
    "    ratings = [] # 將所有刺激給編號 (分數_編號)\n",
    "    for i in range(len(temp)):\n",
    "        stimRating = temp[i]\n",
    "        ratings.append([str(j)+'_'+str(i+1) for i,j in enumerate(stimRating)])\n",
    "\n",
    "    diffDict = {i+1: [] for i in range(difficultyRange)} # 組合難度分類\n",
    "    for c in list(combinations(ratings,2)):\n",
    "        diff = abs(int(c[1][0].split('_')[0])-int(c[0][0].split('_')[0]))\n",
    "        if diff in diffDict.keys():\n",
    "            diffDict[diff].append(c)\n",
    "        \n",
    "    AllCombinations = [] # 創建所有組合\n",
    "    diffCombinationsDict = {i+1: [] for i in range(difficultyRange)} # 創建所有組合並以難度分類\n",
    "    for diff, comb in diffDict.items():\n",
    "        for stims in comb:\n",
    "            Trial = list(product(stims[0], stims[1]))\n",
    "            AllCombinations += Trial\n",
    "            diffCombinationsDict[diff] += Trial\n",
    "            \n",
    "    return diffCombinationsDict, AllCombinations, ratings"
   ]
  },
  {
   "cell_type": "code",
   "execution_count": 189,
   "id": "869d2a6d",
   "metadata": {},
   "outputs": [],
   "source": [
    "def getStim(diffCombinationsDict, quotaDF, needCounts=None):\n",
    "    \n",
    "    removeUsedStim = copy.deepcopy(diffCombinationsDict)\n",
    "    if needCounts == None:\n",
    "        needCounts = {1: 160, 2: 120, 3: 80, 4: 40} #[150, 120, 90, 60]\n",
    "        \n",
    "    def checkQuota(stim):\n",
    "        if (quotaDF[quotaDF['Name']==stim[0]]['NowCounts'].values[0]==0) or \\\n",
    "            (quotaDF[quotaDF['Name']==stim[1]]['NowCounts'].values[0]==0):\n",
    "            return False\n",
    "        return True\n",
    "    global failed\n",
    "    \n",
    "    stimDict = {i+1: [] for i in range(4)}\n",
    "    for diff, comb in list(diffCombinationsDict.items())[::-1]:\n",
    "        for i in range(len(comb)):\n",
    "            if len(stimDict[diff]) == needCounts[diff]:\n",
    "                break\n",
    "            index = np.random.randint(len(comb))\n",
    "            toAdd = comb[index]\n",
    "            diffCombinationsDict[diff].pop(index) # 有抽出來過就丟掉\n",
    "            if checkQuota(toAdd):\n",
    "                stimDict[diff].append(toAdd)\n",
    "                removeUsedStim[diff].remove(toAdd)\n",
    "                for img in toAdd:\n",
    "                    updateIndex = quotaDF[quotaDF['Name']==img].index[0]\n",
    "                    quotaDF.at[updateIndex, 'NowCounts'] -= 1\n",
    "            else:\n",
    "                failed+=1\n",
    "            \n",
    "    return stimDict, removeUsedStim, diffCombinationsDict"
   ]
  },
  {
   "cell_type": "code",
   "execution_count": 235,
   "id": "5f991c5c",
   "metadata": {},
   "outputs": [],
   "source": [
    "failed = 0\n",
    "def createFirstStim(NowCounts, allcounts):\n",
    "    print(NowCounts)\n",
    "    diffCombinationsDict, AllCombinations, ratings = genCombinations(allcounts) # [6,8,10,10,8,12]\n",
    "    allratings = [item for rating in ratings for item in rating]\n",
    "    quotaDF = pd.DataFrame({'Name':allratings, 'NowCounts': NowCounts})\n",
    "    global failed\n",
    "    failed = 0\n",
    "    stimDict, removeUsedStim, _ = getStim(diffCombinationsDict, quotaDF)\n",
    "    print(len([item for rating in stimDict.values() for item in rating]))\n",
    "    return stimDict, removeUsedStim, allratings\n",
    "\n",
    "def createSecondStim(NowCounts, prevDiffComDict, allcounts, allratings):\n",
    "    print(NowCounts)\n",
    "    quotaDF = pd.DataFrame({'Name':allratings, 'NowCounts': NowCounts})\n",
    "    global failed\n",
    "    failed = 0\n",
    "    stimDict, removeUsedStim, _ = getStim(prevDiffComDict, quotaDF)\n",
    "    print(len([item for rating in stimDict.values() for item in rating]))\n",
    "    return stimDict, removeUsedStim"
   ]
  },
  {
   "cell_type": "code",
   "execution_count": 243,
   "id": "3402964e",
   "metadata": {},
   "outputs": [],
   "source": [
    "def makeStim(allcounts):\n",
    "    NowCounts=5\n",
    "    while True:\n",
    "        stimDict1, newDiffCombination, allratings = createFirstStim(NowCounts, allcounts)\n",
    "        total = len([item for rating in stimDict1.values() for item in rating])\n",
    "        if total == 400:\n",
    "            break\n",
    "        else:\n",
    "            NowCounts+=1\n",
    "    NowCounts1 = NowCounts\n",
    "    NowCounts=5\n",
    "    while True:\n",
    "        diffComcopy = copy.deepcopy(newDiffCombination)\n",
    "        stimDict2, removeUsedStim = createSecondStim(NowCounts, diffComcopy, allcounts, allratings)\n",
    "        total = len([item for rating in stimDict2.values() for item in rating])\n",
    "        if total == 400:\n",
    "            break\n",
    "        else:\n",
    "            NowCounts+=1\n",
    "    NowCounts2 = NowCounts\n",
    "    \n",
    "    return stimDict1, stimDict2, NowCounts1, NowCounts2"
   ]
  },
  {
   "cell_type": "code",
   "execution_count": 264,
   "id": "c6bcdd35",
   "metadata": {},
   "outputs": [
    {
     "name": "stdout",
     "output_type": "stream",
     "text": [
      "5\n",
      "400\n",
      "5\n",
      "400\n"
     ]
    }
   ],
   "source": [
    "a, b, _, _ = makeStim([50,30,20,20,16,16,16,16])"
   ]
  },
  {
   "cell_type": "code",
   "execution_count": 31,
   "id": "3eff6959",
   "metadata": {},
   "outputs": [],
   "source": [
    "stimOccur = []\n",
    "for ind in range(4):\n",
    "    stimOccur += a[ind]\n",
    "stimOccur2 = []\n",
    "for ind in range(4):\n",
    "    stimOccur2 += b[ind]"
   ]
  },
  {
   "cell_type": "code",
   "execution_count": 32,
   "id": "ed0ba884",
   "metadata": {},
   "outputs": [],
   "source": [
    "stimOccur = set(stimOccur)\n",
    "stimOccur2 = set(stimOccur2)"
   ]
  },
  {
   "cell_type": "code",
   "execution_count": 263,
   "id": "3ed4a292",
   "metadata": {},
   "outputs": [
    {
     "ename": "NameError",
     "evalue": "name 'stimOccur' is not defined",
     "output_type": "error",
     "traceback": [
      "\u001b[0;31m---------------------------------------------------------------------------\u001b[0m",
      "\u001b[0;31mNameError\u001b[0m                                 Traceback (most recent call last)",
      "Input \u001b[0;32mIn [263]\u001b[0m, in \u001b[0;36m<cell line: 1>\u001b[0;34m()\u001b[0m\n\u001b[0;32m----> 1\u001b[0m new \u001b[38;5;241m=\u001b[39m \u001b[43mstimOccur\u001b[49m\u001b[38;5;241m.\u001b[39munion(stimOccur2)\n\u001b[1;32m      2\u001b[0m \u001b[38;5;28mprint\u001b[39m(\u001b[38;5;28mlen\u001b[39m(stimOccur))\n\u001b[1;32m      3\u001b[0m \u001b[38;5;28mprint\u001b[39m(\u001b[38;5;28mlen\u001b[39m(stimOccur2))\n",
      "\u001b[0;31mNameError\u001b[0m: name 'stimOccur' is not defined"
     ]
    }
   ],
   "source": [
    "new = stimOccur.union(stimOccur2)\n",
    "print(len(stimOccur))\n",
    "print(len(stimOccur2))\n",
    "print(len(new))"
   ]
  },
  {
   "cell_type": "code",
   "execution_count": null,
   "id": "2f7b422c",
   "metadata": {},
   "outputs": [],
   "source": [
    "hard = stimList1[0]\n",
    "highLowList = [0 for i in range(4)]\n",
    "for stim in hard:\n",
    "    first = int(stim[0].split('_')[0])\n",
    "    second = int(stim[1].split('_')[0])\n",
    "    match first:\n",
    "        case 5:\n",
    "            highLowList[0]+=1\n",
    "        case 6:\n",
    "            highLowList[1]+=1\n",
    "        case 7:\n",
    "            highLowList[2]+=1\n",
    "        case 8:\n",
    "            highLowList[3]+=1\n",
    "print(highLowList)"
   ]
  },
  {
   "cell_type": "code",
   "execution_count": null,
   "id": "3fdcca32",
   "metadata": {},
   "outputs": [],
   "source": [
    "unique, counts = np.unique(stimOccur1, return_counts=True)\n",
    "stim1df = pd.DataFrame({'Name': unique, 'counts': counts})\n",
    "stim1df[stim1df.counts < 7].reset_index()"
   ]
  },
  {
   "cell_type": "code",
   "execution_count": null,
   "id": "0179ee94",
   "metadata": {},
   "outputs": [],
   "source": [
    "unique, counts = np.unique(stimOccur2, return_counts=True)\n",
    "stim2df = pd.DataFrame({'Name': unique, 'counts': counts})\n",
    "stim2df[stim2df.counts < 7].reset_index()"
   ]
  },
  {
   "cell_type": "code",
   "execution_count": null,
   "id": "36e2ad76",
   "metadata": {},
   "outputs": [],
   "source": []
  }
 ],
 "metadata": {
  "kernelspec": {
   "display_name": "Python 3.8",
   "language": "python",
   "name": "python38"
  },
  "language_info": {
   "codemirror_mode": {
    "name": "ipython",
    "version": 3
   },
   "file_extension": ".py",
   "mimetype": "text/x-python",
   "name": "python",
   "nbconvert_exporter": "python",
   "pygments_lexer": "ipython3",
   "version": "3.8.13"
  },
  "toc": {
   "base_numbering": 1,
   "nav_menu": {},
   "number_sections": true,
   "sideBar": true,
   "skip_h1_title": false,
   "title_cell": "Table of Contents",
   "title_sidebar": "Contents",
   "toc_cell": false,
   "toc_position": {},
   "toc_section_display": true,
   "toc_window_display": false
  },
  "varInspector": {
   "cols": {
    "lenName": 16,
    "lenType": 16,
    "lenVar": 40
   },
   "kernels_config": {
    "python": {
     "delete_cmd_postfix": "",
     "delete_cmd_prefix": "del ",
     "library": "var_list.py",
     "varRefreshCmd": "print(var_dic_list())"
    },
    "r": {
     "delete_cmd_postfix": ") ",
     "delete_cmd_prefix": "rm(",
     "library": "var_list.r",
     "varRefreshCmd": "cat(var_dic_list()) "
    }
   },
   "types_to_exclude": [
    "module",
    "function",
    "builtin_function_or_method",
    "instance",
    "_Feature"
   ],
   "window_display": false
  }
 },
 "nbformat": 4,
 "nbformat_minor": 5
}
