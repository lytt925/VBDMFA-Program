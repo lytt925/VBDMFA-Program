{
 "cells": [
  {
   "cell_type": "code",
   "execution_count": 2,
   "id": "c5a92e72",
   "metadata": {},
   "outputs": [],
   "source": [
    "import pandas as pd\n",
    "import numpy as np\n",
    "from itertools import combinations, product, chain, repeat\n",
    "import copy"
   ]
  },
  {
   "cell_type": "code",
   "execution_count": 8,
   "id": "dfc8a80d",
   "metadata": {},
   "outputs": [
    {
     "data": {
      "text/plain": [
       "2.0    78\n",
       "3.0    57\n",
       "5.0    41\n",
       "6.0    40\n",
       "7.0    38\n",
       "4.0    32\n",
       "1.0    32\n",
       "Name: rating, dtype: int64"
      ]
     },
     "execution_count": 8,
     "metadata": {},
     "output_type": "execute_result"
    }
   ],
   "source": [
    "Rating = pd.read_csv('ExpData/01_蕭柏圓/1_VBDM_2022-12-27-2049_Rating.csv')\n",
    "Rating = Rating.sort_values(\n",
    "    'Name', key=lambda x: sorted(x.str.slice(start=2, stop=-4)))\n",
    "Rating.loc[Rating.query('rating==10').index, 'rating'] = 9\n",
    "ratings_counts = Rating['rating'].value_counts()\n",
    "ratings_counts"
   ]
  },
  {
   "cell_type": "code",
   "execution_count": null,
   "id": "3402964e",
   "metadata": {},
   "outputs": [],
   "source": [
    "import pandas as pd\n",
    "import numpy as np\n",
    "from itertools import combinations, product, chain, repeat\n",
    "import copy\n",
    "\n",
    "def genCombinations(countList):\n",
    "    temp = []\n",
    "    i = 4\n",
    "    for count in countList:\n",
    "        i += 1\n",
    "        temp.append(np.repeat(i,count))\n",
    "\n",
    "    ratings = []\n",
    "    for i in range(len(temp)):\n",
    "        stimRating = temp[i]\n",
    "        ratings.append([str(j)+'_'+str(i+1) for i,j in enumerate(stimRating)])\n",
    "\n",
    "    diffList = [[] for i in range(4)]\n",
    "    for c in list(combinations(ratings,2)):\n",
    "        diff = abs(int(c[1][0].split('_')[0])-int(c[0][0].split('_')[0]))\n",
    "        diffList[diff-1].append(c)\n",
    "        \n",
    "    RatingCombinations = []\n",
    "    diffCombinations =[[] for i in range(4)]\n",
    "    i=0\n",
    "    for diff in diffList:\n",
    "        for rate in diff:\n",
    "            this = list(product(rate[0], rate[1]))\n",
    "            RatingCombinations += this\n",
    "            diffCombinations[i]+= this\n",
    "        i+=1\n",
    "    # allcom = np.array(RatingCombinations).flatten()\n",
    "    \n",
    "    return diffCombinations, RatingCombinations, ratings"
   ]
  },
  {
   "cell_type": "code",
   "execution_count": null,
   "id": "ff393c91",
   "metadata": {},
   "outputs": [],
   "source": [
    "def getStim(diff, diffCombinations, diffComcopy, stimList, quotaDF):\n",
    "    def checkQuota(stim):\n",
    "        if (quotaDF[quotaDF['Name']==stim[0]]['NowCounts'].values[0]==0) or \\\n",
    "            (quotaDF[quotaDF['Name']==stim[1]]['NowCounts'].values[0]==0):\n",
    "            return False\n",
    "        return True\n",
    "    global failed\n",
    "    ind = diff-1\n",
    "    # needCounts = [150, 120, 90, 60]\n",
    "    needCounts = [160, 120, 80, 40]\n",
    "    for i in range(len(diffCombinations[ind])):\n",
    "        if len(stimList[ind]) == needCounts[ind]:\n",
    "            break\n",
    "        index = np.random.randint(len(diffCombinations[ind]))\n",
    "        toAdd = diffCombinations[ind][index]\n",
    "        diffCombinations[ind].pop(index)\n",
    "        if checkQuota(toAdd):\n",
    "            stimList[ind].append(toAdd)\n",
    "            diffComcopy[ind].remove(toAdd)\n",
    "            for img in toAdd:\n",
    "                updateIndex = quotaDF[quotaDF['Name']==img].index[0]\n",
    "                quotaDF.at[updateIndex, 'NowCounts'] -= 1\n",
    "        else:\n",
    "            failed+=1"
   ]
  },
  {
   "cell_type": "code",
   "execution_count": null,
   "id": "53d0bad5",
   "metadata": {},
   "outputs": [],
   "source": [
    "failed = 0\n",
    "def createFirstStim(NowCounts, allcounts):\n",
    "    print(NowCounts)\n",
    "    diffCombinations, RatingCombinations, ratings = genCombinations(allcounts) # [6,8,10,10,8,12]\n",
    "    diffComcopy = copy.deepcopy(diffCombinations)\n",
    "    stimList = [[] for i in range(4)]\n",
    "    allratings = [item for rating in ratings for item in rating]\n",
    "    quotaDF = pd.DataFrame({'Name':allratings, 'NowCounts': NowCounts})\n",
    "    global failed\n",
    "    failed = 0\n",
    "    for i in [4,3,2,1]:\n",
    "        getStim(i, diffCombinations, diffComcopy, stimList, quotaDF)\n",
    "    stimOccur = []\n",
    "    for ind in range(4):\n",
    "        stimOccur += list(sum(stimList[ind], ()))\n",
    "    print(len([item for rating in stimList for item in rating]))\n",
    "    return stimList, stimOccur, diffComcopy"
   ]
  },
  {
   "cell_type": "code",
   "execution_count": null,
   "id": "14a9f3b9",
   "metadata": {},
   "outputs": [],
   "source": [
    "def createSecondStim(NowCounts, prevDiffCom, allcounts):\n",
    "    print(NowCounts)\n",
    "    diffComcopy = copy.deepcopy(prevDiffCom)\n",
    "    stimList = [[] for i in range(4)]\n",
    "    __, _, ratings = genCombinations(allcounts) # [6,8,10,10,8,12]\n",
    "    allratings = [item for rating in ratings for item in rating]\n",
    "    quotaDF = pd.DataFrame({'Name':allratings, 'NowCounts': NowCounts})\n",
    "    global failed\n",
    "    failed = 0\n",
    "    for i in [4,3,2,1]:\n",
    "        getStim(i, prevDiffCom, diffComcopy, stimList, quotaDF)\n",
    "    stimOccur = []\n",
    "    for ind in range(4):\n",
    "        stimOccur += list(sum(stimList[ind], ()))\n",
    "    print(len([item for rating in stimList for item in rating]))\n",
    "    return stimList, stimOccur, diffComcopy"
   ]
  },
  {
   "cell_type": "code",
   "execution_count": 2,
   "id": "3b4ef903",
   "metadata": {},
   "outputs": [],
   "source": [
    "def makeStim(allcounts):\n",
    "    NowCounts=3\n",
    "    while True:\n",
    "        stimList1, stimOccur1, newDiffComcopy = createFirstStim(NowCounts, allcounts)\n",
    "        total = len([item for rating in stimList1 for item in rating])\n",
    "        if total == 400:\n",
    "            break\n",
    "        else:\n",
    "            NowCounts+=1\n",
    "    NowCounts=3\n",
    "    while True:\n",
    "        diffComcopy = copy.deepcopy(newDiffComcopy)\n",
    "        stimList2, stimOccur2, lastDiffComcopy = createSecondStim(NowCounts, diffComcopy, allcounts)\n",
    "        total = len([item for rating in stimList2 for item in rating])\n",
    "        if total == 400:\n",
    "            break\n",
    "        else:\n",
    "            NowCounts+=1\n",
    "    \n",
    "    return stimList1, stimList2\n",
    "    "
   ]
  },
  {
   "cell_type": "code",
   "execution_count": 14,
   "id": "c6bcdd35",
   "metadata": {},
   "outputs": [
    {
     "name": "stdout",
     "output_type": "stream",
     "text": [
      "5\n",
      "302\n",
      "6\n",
      "398\n",
      "7\n",
      "420\n",
      "5\n",
      "294\n",
      "6\n",
      "396\n",
      "7\n",
      "420\n"
     ]
    }
   ],
   "source": [
    "a, b = makeStim([50,30,20,20,16])"
   ]
  },
  {
   "cell_type": "code",
   "execution_count": 31,
   "id": "3eff6959",
   "metadata": {},
   "outputs": [],
   "source": [
    "stimOccur = []\n",
    "for ind in range(4):\n",
    "    stimOccur += a[ind]\n",
    "stimOccur2 = []\n",
    "for ind in range(4):\n",
    "    stimOccur2 += b[ind]"
   ]
  },
  {
   "cell_type": "code",
   "execution_count": 32,
   "id": "ed0ba884",
   "metadata": {},
   "outputs": [],
   "source": [
    "stimOccur = set(stimOccur)\n",
    "stimOccur2 = set(stimOccur2)"
   ]
  },
  {
   "cell_type": "code",
   "execution_count": 34,
   "id": "3ed4a292",
   "metadata": {},
   "outputs": [
    {
     "name": "stdout",
     "output_type": "stream",
     "text": [
      "420\n",
      "420\n",
      "840\n"
     ]
    }
   ],
   "source": [
    "new = stimOccur.union(stimOccur2)\n",
    "print(len(stimOccur))\n",
    "print(len(stimOccur2))\n",
    "print(len(new))"
   ]
  },
  {
   "cell_type": "code",
   "execution_count": null,
   "id": "2f7b422c",
   "metadata": {},
   "outputs": [],
   "source": [
    "hard = stimList1[0]\n",
    "highLowList = [0 for i in range(4)]\n",
    "for stim in hard:\n",
    "    first = int(stim[0].split('_')[0])\n",
    "    second = int(stim[1].split('_')[0])\n",
    "    match first:\n",
    "        case 5:\n",
    "            highLowList[0]+=1\n",
    "        case 6:\n",
    "            highLowList[1]+=1\n",
    "        case 7:\n",
    "            highLowList[2]+=1\n",
    "        case 8:\n",
    "            highLowList[3]+=1\n",
    "print(highLowList)"
   ]
  },
  {
   "cell_type": "code",
   "execution_count": null,
   "id": "3fdcca32",
   "metadata": {},
   "outputs": [],
   "source": [
    "unique, counts = np.unique(stimOccur1, return_counts=True)\n",
    "stim1df = pd.DataFrame({'Name': unique, 'counts': counts})\n",
    "stim1df[stim1df.counts < 7].reset_index()"
   ]
  },
  {
   "cell_type": "code",
   "execution_count": null,
   "id": "0179ee94",
   "metadata": {},
   "outputs": [],
   "source": [
    "unique, counts = np.unique(stimOccur2, return_counts=True)\n",
    "stim2df = pd.DataFrame({'Name': unique, 'counts': counts})\n",
    "stim2df[stim2df.counts < 7].reset_index()"
   ]
  },
  {
   "cell_type": "code",
   "execution_count": null,
   "id": "36e2ad76",
   "metadata": {},
   "outputs": [],
   "source": []
  }
 ],
 "metadata": {
  "kernelspec": {
   "display_name": "Python 3.11",
   "language": "python",
   "name": "python311"
  },
  "language_info": {
   "codemirror_mode": {
    "name": "ipython",
    "version": 3
   },
   "file_extension": ".py",
   "mimetype": "text/x-python",
   "name": "python",
   "nbconvert_exporter": "python",
   "pygments_lexer": "ipython3",
   "version": "3.11.0"
  },
  "toc": {
   "base_numbering": 1,
   "nav_menu": {},
   "number_sections": true,
   "sideBar": true,
   "skip_h1_title": false,
   "title_cell": "Table of Contents",
   "title_sidebar": "Contents",
   "toc_cell": false,
   "toc_position": {},
   "toc_section_display": true,
   "toc_window_display": false
  },
  "varInspector": {
   "cols": {
    "lenName": 16,
    "lenType": 16,
    "lenVar": 40
   },
   "kernels_config": {
    "python": {
     "delete_cmd_postfix": "",
     "delete_cmd_prefix": "del ",
     "library": "var_list.py",
     "varRefreshCmd": "print(var_dic_list())"
    },
    "r": {
     "delete_cmd_postfix": ") ",
     "delete_cmd_prefix": "rm(",
     "library": "var_list.r",
     "varRefreshCmd": "cat(var_dic_list()) "
    }
   },
   "types_to_exclude": [
    "module",
    "function",
    "builtin_function_or_method",
    "instance",
    "_Feature"
   ],
   "window_display": false
  }
 },
 "nbformat": 4,
 "nbformat_minor": 5
}
